{
 "cells": [
  {
   "cell_type": "markdown",
   "metadata": {},
   "source": [
    "# Module 2 Project \n",
    "\n",
    "Congratulations on finishing all the coursework for module 2! You have come a long way since you joined Flatiron - you have now learned how to collect data, work with databases, identify & interpret different types of statistical distributions, conduct statistical testing, and tell interesting and meaningful stories from your data. You are now ready to use your newly learned skills to build a statistics project. \n",
    "\n",
    "For Mod 2 Project, you are going to collect data, store them in either a CSV or database, conduct exploratory analysis, and conduct a hypothesis testing using the linear models we have learned in this chapter. You may either start with a __question__, or with __data__. For example, you can ask:\n",
    "- What affect the prices of drugs in the FDA drug database? Is one type of drug significantly more expensive than the other?\n",
    "- Does body weight, carbs intake, and age have an effect on the blood cholesterol level? What assumptions need to be made or satistified to answer such a question?\n",
    "- Is anxiety influenced by different types of personality traits? \n",
    "- What elements influence retail sales? Is the the time of the day, the day of the week, different types of marketing strategy, or others? Which element is the most important in relation to sales? What strategy would you recommend management if you would like to increase sales?\n",
    "- Dangerous racial stereotyping leads people to think certain races are \"smarter\" than others; however, is academic performance of public school students correlated with their demographic profile, or socioeconomic statuses, resources, perceived anxiety, friendship, and mood? What recommendation can you make for education instituitions to foster better learning environment? "
   ]
  },
  {
   "cell_type": "markdown",
   "metadata": {},
   "source": [
    "#### Deliverables\n",
    "- A well-formed hypothesis and the question you are trying to answer \n",
    "- Data visualization showing correlations between variables and distributions of data\n",
    "- Exploratory analysis of your data\n",
    "- Results of your hypothesis testing with evaluation metrics (R square, coefficients of variables, your model)\n",
    "- A model with at least **three** distinct independent variables, and **two** engineered features\n",
    "- Examination of linear model assumptions using visualizations\n",
    "- A coherent and insightful story"
   ]
  },
  {
   "cell_type": "code",
   "execution_count": null,
   "metadata": {},
   "outputs": [],
   "source": []
  }
 ],
 "metadata": {
  "kernelspec": {
   "display_name": "Python 3",
   "language": "python",
   "name": "python3"
  },
  "language_info": {
   "codemirror_mode": {
    "name": "ipython",
    "version": 3
   },
   "file_extension": ".py",
   "mimetype": "text/x-python",
   "name": "python",
   "nbconvert_exporter": "python",
   "pygments_lexer": "ipython3",
   "version": "3.7.2"
  }
 },
 "nbformat": 4,
 "nbformat_minor": 2
}
